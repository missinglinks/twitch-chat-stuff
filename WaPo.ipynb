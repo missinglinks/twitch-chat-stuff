{
 "cells": [
  {
   "cell_type": "code",
   "execution_count": 1,
   "metadata": {},
   "outputs": [],
   "source": [
    "from twitchchat import TwitchChat, timestamp"
   ]
  },
  {
   "cell_type": "code",
   "execution_count": 2,
   "metadata": {},
   "outputs": [],
   "source": [
    "wapo = TwitchChat(\"data/315348674.json\")"
   ]
  },
  {
   "cell_type": "code",
   "execution_count": 3,
   "metadata": {},
   "outputs": [
    {
     "data": {
      "image/png": "[encoded data removed]",
      "text/plain": [
       "<Figure size 1800x720 with 1 Axes>"
      ]
     },
     "metadata": {},
     "output_type": "display_data"
    }
   ],
   "source": [
    "wapo.plot_messages()"
   ]
  },
  {
   "cell_type": "code",
   "execution_count": 4,
   "metadata": {},
   "outputs": [],
   "source": [
    "corpus1 = wapo.message_corpus(5000, 20000)\n",
    "corpus2 = wapo.message_corpus(21000, 36000)"
   ]
  },
  {
   "cell_type": "code",
   "execution_count": 6,
   "metadata": {},
   "outputs": [
    {
     "name": "stdout",
     "output_type": "stream",
     "text": [
      "Number of comments: 11337\n",
      "Comments without emoticons: 7215\n",
      "Comments without emoticons ratio: 0.6364117491399841\n"
     ]
    }
   ],
   "source": [
    "corpus1.stats()"
   ]
  },
  {
   "cell_type": "code",
   "execution_count": 8,
   "metadata": {},
   "outputs": [
    {
     "name": "stdout",
     "output_type": "stream",
     "text": [
      "Number of comments: 18554\n",
      "Comments without emoticons: 11788\n",
      "Comments without emoticons ratio: 0.6353346987172578\n"
     ]
    }
   ],
   "source": [
    "corpus2.stats()"
   ]
  },
  {
   "cell_type": "code",
   "execution_count": 9,
   "metadata": {},
   "outputs": [
    {
     "data": {
      "text/plain": [
       "[('washingtonpost', 204),\n",
       " ('cornholio_', 145),\n",
       " ('TorchedPotato', 120),\n",
       " ('merkypie', 119),\n",
       " ('R7PT0R', 102),\n",
       " ('RedPandaNyx', 95),\n",
       " ('EnlightenedMint', 94),\n",
       " ('Wowee_RURU', 92),\n",
       " ('Kez____', 88),\n",
       " ('PlanetMeech', 83),\n",
       " ('Heskey4lyfe', 79),\n",
       " ('Linkman95', 78),\n",
       " ('lootorshoottv', 78),\n",
       " ('smackersquiggles', 76),\n",
       " ('pRo9aMeR', 73)]"
      ]
     },
     "execution_count": 9,
     "metadata": {},
     "output_type": "execute_result"
    }
   ],
   "source": [
    "corpus1.commenters.most_common(15)"
   ]
  },
  {
   "cell_type": "code",
   "execution_count": 10,
   "metadata": {},
   "outputs": [
    {
     "data": {
      "text/plain": [
       "[('LUL [https://static-cdn.jtvnw.net/emoticons/v1/425618/3.0]', 1012),\n",
       " ('PogChamp [https://static-cdn.jtvnw.net/emoticons/v1/88/3.0]', 465),\n",
       " ('BibleThump [https://static-cdn.jtvnw.net/emoticons/v1/86/3.0]', 261),\n",
       " (':) [https://static-cdn.jtvnw.net/emoticons/v1/1/3.0]', 212),\n",
       " ('Kappa [https://static-cdn.jtvnw.net/emoticons/v1/25/3.0]', 203),\n",
       " ('4Head [https://static-cdn.jtvnw.net/emoticons/v1/354/3.0]', 162),\n",
       " ('washpostGene [https://static-cdn.jtvnw.net/emoticons/v1/1290549/3.0]', 107),\n",
       " ('WutFace [https://static-cdn.jtvnw.net/emoticons/v1/28087/3.0]', 81),\n",
       " ('DansGame [https://static-cdn.jtvnw.net/emoticons/v1/33/3.0]', 76),\n",
       " ('HotPokket [https://static-cdn.jtvnw.net/emoticons/v1/357/3.0]', 68),\n",
       " ('FailFish [https://static-cdn.jtvnw.net/emoticons/v1/360/3.0]', 66),\n",
       " ('ResidentSleeper [https://static-cdn.jtvnw.net/emoticons/v1/245/3.0]', 65),\n",
       " ('<3 [https://static-cdn.jtvnw.net/emoticons/v1/9/3.0]', 63),\n",
       " ('NotLikeThis [https://static-cdn.jtvnw.net/emoticons/v1/58765/3.0]', 56),\n",
       " ('cmonBruh [https://static-cdn.jtvnw.net/emoticons/v1/84608/3.0]', 49)]"
      ]
     },
     "execution_count": 10,
     "metadata": {},
     "output_type": "execute_result"
    }
   ],
   "source": [
    "corpus1.emoticons.most_common(15)"
   ]
  },
  {
   "cell_type": "code",
   "execution_count": 11,
   "metadata": {},
   "outputs": [],
   "source": [
    "corpus2 = wapo.message_corpus(21000, 36000)"
   ]
  },
  {
   "cell_type": "code",
   "execution_count": 12,
   "metadata": {},
   "outputs": [
    {
     "data": {
      "text/plain": [
       "[('washingtonpost', 174),\n",
       " ('Kez____', 102),\n",
       " ('merkypie', 102),\n",
       " ('arcadeghost', 99),\n",
       " ('DFGRIP', 96),\n",
       " ('DEFTLyDoNE', 94),\n",
       " ('TorchedPotato', 93),\n",
       " ('highohh', 89),\n",
       " ('Vilucide', 88),\n",
       " ('Wowee_RURU', 87),\n",
       " ('DanielJNewman', 86),\n",
       " ('eldwolfe', 81),\n",
       " ('Hyperionyht', 80),\n",
       " ('phosgene22', 78),\n",
       " ('southalexander', 72)]"
      ]
     },
     "execution_count": 12,
     "metadata": {},
     "output_type": "execute_result"
    }
   ],
   "source": [
    "corpus2.commenters.most_common(15)"
   ]
  },
  {
   "cell_type": "code",
   "execution_count": 22,
   "metadata": {},
   "outputs": [],
   "source": [
    "import spacy\n",
    "from collections import Counter\n",
    "from tqdm import tqdm\n",
    "nlp = spacy.load('en')\n",
    "doc = nlp(corpus1.corpus[0])\n",
    "\n"
   ]
  },
  {
   "cell_type": "code",
   "execution_count": 118,
   "metadata": {},
   "outputs": [],
   "source": [
    "def term_freq(corpus):\n",
    "    word_freq = Counter()\n",
    "    for line in tqdm(corpus):\n",
    "        doc = nlp(line)\n",
    "        words = [token.lemma_ for token in doc if token.is_stop != True and token.is_punct != True and token.pos_ == \"NOUN\"]\n",
    "        word_freq.update(words)\n",
    "    return word_freq\n",
    "\n",
    "def lemmatize(corpus):\n",
    "    c = []\n",
    "    for line in tqdm(corpus):\n",
    "        doc = nlp(line)\n",
    "        words = [token.lemma_ for token in doc if token.is_stop != True and token.is_punct != True ]\n",
    "        c.append(words)\n",
    "    return c\n",
    "    "
   ]
  },
  {
   "cell_type": "code",
   "execution_count": 119,
   "metadata": {
    "scrolled": true
   },
   "outputs": [
    {
     "name": "stderr",
     "output_type": "stream",
     "text": [
      "100%|██████████| 11337/11337 [01:44<00:00, 108.46it/s]\n"
     ]
    }
   ],
   "source": [
    "c1_lemma = lemmatize(corpus1.corpus)"
   ]
  },
  {
   "cell_type": "code",
   "execution_count": 130,
   "metadata": {},
   "outputs": [
    {
     "name": "stderr",
     "output_type": "stream",
     "text": [
      "100%|██████████| 18554/18554 [02:47<00:00, 110.59it/s]\n"
     ]
    }
   ],
   "source": [
    "c2_lemma = lemmatize(corpus2.corpus)"
   ]
  },
  {
   "cell_type": "code",
   "execution_count": 120,
   "metadata": {},
   "outputs": [],
   "source": [
    "import nltk\n",
    "from collections import defaultdict\n",
    "from nltk.collocations import *"
   ]
  },
  {
   "cell_type": "code",
   "execution_count": 161,
   "metadata": {},
   "outputs": [],
   "source": [
    "def collocation_dict(corpus):\n",
    "    bigram_measures = nltk.collocations.BigramAssocMeasures()\n",
    "    trigram_measures = nltk.collocations.TrigramAssocMeasures()\n",
    "    #finder = BigramCollocationFinder.from_words(corpus)\n",
    "    BigramCollocationFinder.default_ws = 10\n",
    "    finder = BigramCollocationFinder.from_documents(corpus)\n",
    "    finder.apply_freq_filter(3)\n",
    "    #print(finder.nbest(bigram_measures.pmi, 90))\n",
    "    bgm    = nltk.collocations.BigramAssocMeasures()\n",
    "    scored = finder.score_ngrams( bgm.likelihood_ratio  )                                 \n",
    "    prefix_keys = defaultdict(list)\n",
    "    for key, scores in scored:\n",
    "        prefix_keys[key[0]].append((key[1], scores))\n",
    "    return prefix_keys"
   ]
  },
  {
   "cell_type": "code",
   "execution_count": 162,
   "metadata": {},
   "outputs": [],
   "source": [
    "c1_coll = collocation_dict(c1_lemma)"
   ]
  },
  {
   "cell_type": "code",
   "execution_count": 203,
   "metadata": {
    "scrolled": true
   },
   "outputs": [
    {
     "data": {
      "text/plain": [
       "[(\"'s\", 17.572622232789328), ('go', 15.189367222312217)]"
      ]
     },
     "execution_count": 203,
     "metadata": {},
     "output_type": "execute_result"
    }
   ],
   "source": [
    "c1_coll[\"kav\"]"
   ]
  },
  {
   "cell_type": "code",
   "execution_count": 164,
   "metadata": {},
   "outputs": [],
   "source": [
    "c2_coll = collocation_dict(c2_lemma)"
   ]
  },
  {
   "cell_type": "code",
   "execution_count": 202,
   "metadata": {
    "scrolled": true
   },
   "outputs": [
    {
     "data": {
      "text/plain": [
       "[(\"'s\", 21.858695680072614), ('innocent', 13.752727156129515)]"
      ]
     },
     "execution_count": 202,
     "metadata": {},
     "output_type": "execute_result"
    }
   ],
   "source": [
    "c2_coll[\"kav\"]"
   ]
  },
  {
   "cell_type": "code",
   "execution_count": 195,
   "metadata": {},
   "outputs": [
    {
     "name": "stdout",
     "output_type": "stream",
     "text": [
      "6:03:09.17         [Spiderkey] - @godfearing123 If he is innocent then he is the victim.\n",
      "6:03:50.93         [godfearing123] - by the looks of it, repubs dont care if he's guilty or innocent\n",
      "6:04:27.63         [Garrub] - @MegaMattt @deliriumvoid And I'd be glad to go through a full investigation to show my innocence, rather than jam through a confirmation process.\n",
      "6:05:24.48         [Millea9] - @coriso yes. this contrasts with his not-under-oath statements to fox news saying that he was always innocent\n",
      "6:06:12.36         [MegaMattt] - Even if Kavanaugh is \"found innocent\" of these accusations, the damage has been done and he will be tied to this accusation forever\n",
      "6:07:01.99         [Vilucide] - @deliriumvoid he should if he is innocent, but will you change your mind if he doesn't do so?\n",
      "6:09:46.21         [fluttershy959] - Kavanaugh is innocent. Change my mind.\n",
      "6:10:28.75         [MegaMattt] - @godfearing123 - But that's not what we are discussing anyhow - the discussion started as Kavanaugh saying this will be a deterrent to other folks who put their name out there for public service. Some other guy said he'd gladly put his name out because he's innocent....\n",
      "6:10:59.86         [MegaMattt] - And then the point is -- Even if you're innocent your name gets trashed forever.\n",
      "6:17:04.22         [timmyfirebot] - He's either innocent or has a massive ego... I bet he crumbles in front of the entire country.\n",
      "6:17:46.35         [Vilucide] - @deliriumvoid but would you only say he is stupid, or would that make you think he isn't innocent? @Kez____ she may, but why do you think she would do that just because she is a liberal?\n",
      "6:21:25.39         [Fricative] - democrats \"guilty until proven innocent\" moon2A\n",
      "6:21:36.50         [Leqazxo] - Well, if he is innocent, it has some reasons to be mad LUL\n",
      "6:22:48.11         [RedPandaNyx] - Making his point exactly as he should. Has nothing to fear because he knows he is innocent\n",
      "6:28:22.56         [TheReverendPuck] - What better way to prove you're innocent than creating a narrative that Democrats are evil. Good call.\n",
      "6:29:17.04         [hillbillyherrington] - He innocent forsenE\n",
      "6:30:42.94         [Siggenlh] - would he want the FBI to investigate to prove his innocence?\n",
      "6:30:48.94         [Ashdroid] - \"I have a mom! I'm innocent!!\"\n",
      "6:32:56.83         [ninjakirbyx] - aww hes a christian hes innocent\n",
      "6:33:52.26         [TAT3R_] - this chat=guilty till proven innocent\n",
      "6:34:11.62         [badKarma__] - chat = guilty until proven innocent then still guilty LUL\n",
      "6:38:39.00         [genghisbong] - i have a calendar btw BrokeBack it proves im innocent BrokeBack\n",
      "6:41:02.40         [GiLT_] - BibleThump someone get this poor innocent man an investigation BibleThump\n",
      "6:42:07.36         [whinder] - If he’s innocent he shouldn’t be this shook up.\n",
      "6:42:52.88         [kaan531] - @Amenorino most important part to prove his innocence god damn.\n",
      "6:42:56.08         [nmeisner1] - \"See, here's my calendar. I didn't pencil Dr. Ford in for a 9pm groping. Therefore, I'm innocent\"\n",
      "6:44:41.55         [Hyperionyht] - so he's innocent because of a calendar? give me a break\n",
      "6:45:06.26         [GIaciations] - \"The calender I wrote shows I'm innocent\" LUL\n",
      "6:45:06.42         [fluttershy959] - @hyperionyht Yes, Kavanaugh is literally innocent\n",
      "6:45:07.59         [Dhartun1] - \"innocent until proven guilty\" This isn't a trial, mate.\n",
      "6:48:19.43         [DeathToHeretics] - Record LUL character LUL I had friends, therefore I'm innocent!!!\n",
      "6:49:47.35         [Parallaxbro] - >> i know girls >> proves min innocence\n",
      "6:52:51.51         [ImTiredRobbie] - LUL I drink beer, go to church, have calendars. I'm innocent LUL\n",
      "6:53:25.27         [TAT3R_] - guilty unless proved innocent=twitch chat\n",
      "6:55:04.48         [WVWVWVWVWVWVWVWVWWWVVWVWW] - look im fake crying so i must be innocent BabyRage\n",
      "6:55:24.24         [King_Kato] - too much crying and letting your emotion get to you makes me wonder? if you are innocent... can we still trust you after seeing your emotions get the best of you? i dont know but showing too much might show we weakness just my opinion tho.\n",
      "6:57:43.45         [TheSecondCore] - So innocent, he's a virgin 4Head What a guy 4Head So innocent\n",
      "6:58:00.83         [deliriumvoid] - thank god we are guilty until proven innocent now\n",
      "7:03:54.64         [badKarma__] - guilty until proven innocent LUL\n",
      "7:05:01.57         [pRo9aMeR] - unfortunately, anger is closer to guilt than innocence\n",
      "7:12:56.77         [WVWVWVWVWVWVWVWVWWWVVWVWW] - im yelling so i must be innocent BabyRage\n",
      "7:19:08.54         [DaggyLive] - Calendars = innocence\n",
      "7:22:03.72         [Izathelios] - \"A calendar that I made personally shows my innocence bois\"\n",
      "7:23:33.45         [fakefrogsonly] - He likes beers and has female friends, must be innocent LUL\n",
      "7:23:35.45         [ImTiredRobbie] - beers and calendars. I'm innocent brah\n",
      "7:24:55.71         [fakefrogsonly] - He likes beers and has female friends, must be innocent LUL\n",
      "7:25:08.73         [sanfranlunatic] - He likes beers and has female friends, must be innocent LUL\n",
      "7:30:50.58         [toilerpaper] - Why was his answer to the FBI investigation dismissive and why did he deflect ? If he really is convinced of his innocence take any form of investigation like the accuser did no ?\n",
      "7:34:10.52         [fakefrogsonly] - He likes beers and has female friends, must be innocent LUL\n",
      "7:35:17.75         [fakefrogsonly] - He likes beers and has female friends, must be innocent LUL\n",
      "7:36:16.54         [WVWVWVWVWVWVWVWVWWWVVWVWW] - i have calender i must be innocent EleGiggle\n",
      "7:36:41.14         [genghisbong] - guys he goes to church FailFish he has to be innocent\n",
      "7:37:08.50         [West_Lightz] - genghisbong plus he drinks beer FailFish he has to be innocent\n",
      "7:37:28.90         [ninjakirbyx] - @bansnacks1 I certainly would call for the fbi investigation if I knew I was innocent, and not deflect like Kavanaugh did\n",
      "7:38:42.18         [icejon] - LuL If you are innocent why not let the man speak\n",
      "7:38:48.16         [West_Lightz] - seems super innocent to me LUL\n",
      "7:40:11.87         [Chemlo] - innocent people don't respond like this NotLikeThis\n",
      "7:40:21.16         [toilerpaper] - kaceyScare kaceyFist kaceyFist Hes fighting everything that can prove his innocence or guilt .. WHY ??\n",
      "7:42:54.28         [sneakerb] - 5 minutes of stall...stall....stall.... innocence on display :)\n",
      "7:52:04.11         [bensw] - he's innocent\n",
      "7:52:18.38         [RoboGeoff] - I'm innocent. I love beer!\n",
      "7:52:21.02         [West_Lightz] - i-im innocent\n",
      "7:52:36.02         [triprotic] - cohhCrazy I'm innocent\n",
      "7:52:40.51         [cryptic_overload] - BabyRage I’m innocent let go rooREE\n",
      "7:53:43.92         [aythatsshizzle] - im innocent or whatever 4Head\n",
      "7:54:17.42         [Baron20] - i'm innocent, just don't investigate it\n",
      "7:54:57.43         [AzraRillian] - The important part of an fbi investigation would be to give legitimacy to any witness statements and to investigate any documentation for veracity/alterations. That’s why it’s important, for the sake of both parties (presuming either is innocent)\n",
      "7:58:06.56         [lyyra_] - just saying, they said bill cosby was innocent too\n",
      "8:02:21.17         [Fricative] - ugh.... i think he's innocent but he's making himself look bad\n",
      "8:07:27.57         [monopolyman001] - you can think he is innocent and still vote no LUL\n",
      "8:08:02.00         [AzraRillian] - Exactly, he can be innocent and still be thought to be unfit for the job\n",
      "8:09:50.02         [RedPandaNyx] - Asking an accomplished judge whether accusations need some evidence from the accuser to back them up and whether accused are considered innocent until proven guilty. Ironic rooDerp\n",
      "8:10:28.54         [Fricative] - EXACTLY. you dont prove innocence, you prove guilt\n",
      "8:11:31.58         [hiero_] - I don't understand why asking for an FBI investigation is such a big deal if you're innocent. The only reason you won't is because you are guilty and you f*cking know it.\n",
      "8:12:22.72         [Pursanator123] - What has he got to hide from an FBI investigation if he is innocent ??\n",
      "8:26:52.67         [Explo8] - @Swurf because he's not innocent, by definition of what you're describing\n",
      "8:28:41.42         [Swurf] - @fricative so you think he’s lying about some things but not others? If he’s innocent why is he not telling the truth?\n",
      "8:30:03.90         [taraquest] - They probably can't inbestigate and prove he did it but they could investigate it and clear his name. he has nothing to lose by asking for n investigation if he is innocent\n",
      "8:33:12.01         [OneGoodPixie] - if you are innocent you ahould have nithing to fear. yet why does Kavanaugh refuse to have an investigation? to have all the evidence placed forth from a third party? what is he scared of?\n",
      "8:34:03.73         [Fricative] - 2 iq chat plebs can't understand politics ans why an investigation is bad even if he's innocent. dude wants to say yes but can't\n",
      "8:42:42.92         [BearLoh] - Innocent man angrily screams that it’s unfair to allow FBI to prove his innocence.\n",
      "8:44:33.28         [TheGrayFoxTv] - you didn't tell us fast enough so innocent, it wasn't in my calendar so innocent\n",
      "8:47:47.91         [Tangobish] - Attacking an innocent man, I hate this society\n",
      "8:48:06.82         [ProtestTheBread] - @Tangobish What if he's... not innocent?\n",
      "8:52:33.30         [toilerpaper] - If hes REALLY innocent more time wouldnt matter, if hes not... being apppointed now wouldnt make it possible to overturn it kaceyThink kaceyThink kaceyPose\n",
      "8:57:42.79         [BrooklynMiles] - Omg. We get it. Democrats held onto the accusations. Does that make him innocent?\n",
      "9:12:17.03         [WhatAboutCrank] - before this hearing he was innocent Christian boy now he is a struggling alcoholic LUL\n",
      "9:14:58.78         [snormie] - @lootorshoottv thats not how the lefters work.. once accused, you are a guilty until proven innocent\n",
      "9:16:52.54         [KirinMD] - For any redumbplicans saying Kav is innocent. Look at what Kav’s college roommate has said about the whole situation. His roommate believes the accusers.\n",
      "9:20:53.02         [NidMidalee] - innocent until proven guilty. very simple concept. idiots like hirono have abandoned it and I do not respect her.\n",
      "9:21:54.87         [OxygenThief5k] - That's a criminal trial you're thinking of, NidMidalee. Not the standard for a confirmation hearing for a judicial nominee. If he gets charged w/ a crime, then it's innocent until proven guilty. sorry to burst your bubble my man\n",
      "9:21:58.07         [godfearing123] - i got on yale. im innocent. i didnt drink\n",
      "9:22:12.65         [Lylx] - sports = innocence confirmed\n",
      "9:22:22.74         [Pursanator123] - Im great so im innocent\n",
      "9:38:11.29         [Koke_] - kav is innocent\n",
      "9:48:23.89         [fakefrogsonly] - @RedPandaNyx to clear his name, if he is as innocent as he says he is, it should be no problem :)\n",
      "9:52:48.15         [Koke_] - my boy kav is innocent\n",
      "9:54:03.96         [Tiranwnn] - guy must be innocent KKona\n",
      "9:54:16.74         [Koke_] - well hes innocent he sweared to god\n",
      "9:55:06.48         [apotropaicc] - because God is able to determine innocence\n",
      "9:56:39.92         [TumNarDok] - like all the Catholic Priests are innocent - RIGHT Kappa\n",
      "9:58:08.08         [Curtisbeef] - regardless of if hes innocent dude is Unhinged and does have the temperment for the SC. Period.\n"
     ]
    }
   ],
   "source": [
    "for c in corpus2._comments:\n",
    "    if \"innocen\" in c.message:\n",
    "        print(c)"
   ]
  },
  {
   "cell_type": "code",
   "execution_count": null,
   "metadata": {},
   "outputs": [],
   "source": []
  }
 ],
 "metadata": {
  "kernelspec": {
   "display_name": "Python 3",
   "language": "python",
   "name": "python3"
  },
  "language_info": {
   "codemirror_mode": {
    "name": "ipython",
    "version": 3
   },
   "file_extension": ".py",
   "mimetype": "text/x-python",
   "name": "python",
   "nbconvert_exporter": "python",
   "pygments_lexer": "ipython3",
   "version": "3.6.4"
  }
 },
 "nbformat": 4,
 "nbformat_minor": 2
}
